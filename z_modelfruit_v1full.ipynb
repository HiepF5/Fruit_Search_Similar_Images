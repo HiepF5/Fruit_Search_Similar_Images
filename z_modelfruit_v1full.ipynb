{
 "cells": [
  {
   "cell_type": "code",
   "execution_count": 1,
   "metadata": {},
   "outputs": [
    {
     "name": "stdout",
     "output_type": "stream",
     "text": [
      "Found 142 images belonging to 8 classes.\n"
     ]
    }
   ],
   "source": [
    "import os\n",
    "import numpy as np\n",
    "from tensorflow.keras.preprocessing.image import ImageDataGenerator\n",
    "from tensorflow.keras.models import Sequential, Model\n",
    "from tensorflow.keras.layers import Dense, Dropout, Conv2D, MaxPooling2D, Flatten\n",
    "\n",
    "# Đường dẫn tới dữ liệu huấn luyện\n",
    "train_dir = 'Black2/train'\n",
    "\n",
    "label = ['Apple', 'Lemon', 'Mango', 'Orage', 'Bell pepper', 'Pear', 'Plums', 'Strawberries']\n",
    "\n",
    "# Thiết lập ImageDataGenerator cho tập huấn luyện\n",
    "train_data_gen = ImageDataGenerator(\n",
    "    rescale=1. / 255,\n",
    "    shear_range=0.2,\n",
    "    zoom_range=0.2,\n",
    "    horizontal_flip=True\n",
    ")\n",
    "\n",
    "train_generator = train_data_gen.flow_from_directory(\n",
    "    train_dir,\n",
    "    target_size=(200, 200),\n",
    "    class_mode='categorical',\n",
    "    shuffle=False  # Đảm bảo không xáo trộn dữ liệu để có thể khớp giữa đặc trưng và nhãn\n",
    ")\n",
    "\n",
    "\n"
   ]
  },
  {
   "cell_type": "code",
   "execution_count": 2,
   "metadata": {},
   "outputs": [
    {
     "name": "stderr",
     "output_type": "stream",
     "text": [
      "e:\\Python_code\\.venv\\Lib\\site-packages\\keras\\src\\layers\\convolutional\\base_conv.py:99: UserWarning: Do not pass an `input_shape`/`input_dim` argument to a layer. When using Sequential models, prefer using an `Input(shape)` object as the first layer in the model instead.\n",
      "  super().__init__(\n"
     ]
    }
   ],
   "source": [
    "model = Sequential()\n",
    "\n",
    "model.add(Conv2D(64, (3, 3), activation='relu', input_shape=(200, 200, 3)))\n",
    "model.add(MaxPooling2D(2, 2))\n",
    "\n",
    "model.add(Conv2D(128, (3, 3), activation='relu'))\n",
    "model.add(MaxPooling2D(2, 2))\n",
    "\n",
    "model.add(Conv2D(256, (3, 3), activation='relu'))\n",
    "model.add(MaxPooling2D(2, 2))\n",
    "\n",
    "model.add(Flatten())\n",
    "model.add(Dense(256, activation='relu'))\n",
    "model.add(Dropout(0.5))\n"
   ]
  },
  {
   "cell_type": "code",
   "execution_count": 3,
   "metadata": {},
   "outputs": [
    {
     "name": "stderr",
     "output_type": "stream",
     "text": [
      "e:\\Python_code\\.venv\\Lib\\site-packages\\keras\\src\\trainers\\data_adapters\\py_dataset_adapter.py:120: UserWarning: Your `PyDataset` class should call `super().__init__(**kwargs)` in its constructor. `**kwargs` can include `workers`, `use_multiprocessing`, `max_queue_size`. Do not pass these arguments to `fit()`, as they will be ignored.\n",
      "  self._warn_if_super_not_called()\n"
     ]
    },
    {
     "name": "stdout",
     "output_type": "stream",
     "text": [
      "\u001b[1m5/5\u001b[0m \u001b[32m━━━━━━━━━━━━━━━━━━━━\u001b[0m\u001b[37m\u001b[0m \u001b[1m4s\u001b[0m 665ms/step\n"
     ]
    },
    {
     "name": "stderr",
     "output_type": "stream",
     "text": [
      "WARNING:absl:You are saving your model as an HDF5 file via `model.save()` or `keras.saving.save_model(model)`. This file format is considered legacy. We recommend using instead the native Keras format, e.g. `model.save('my_model.keras')` or `keras.saving.save_model(model, 'my_model.keras')`. \n"
     ]
    }
   ],
   "source": [
    "# Xây dựng mô hình\n",
    "\n",
    "# Trích xuất đặc trưng từ lớp Dense trước lớp cuối cùng\n",
    "feature_extractor = Model(inputs=model.inputs, outputs=model.layers[-2].output)\n",
    "\n",
    "# Dự đoán đặc trưng trên tập dữ liệu huấn luyện\n",
    "train_features = feature_extractor.predict(train_generator, batch_size=32)\n",
    "\n",
    "# Lưu các đặc trưng đã trích xuất nếu cần thiết\n",
    "np.save('train_features.npy', train_features)\n",
    "\n",
    "# Lưu mô hình trích xuất đặc trưng\n",
    "feature_extractor.save('feature_extractor_model.h5')"
   ]
  },
  {
   "cell_type": "code",
   "execution_count": 4,
   "metadata": {},
   "outputs": [
    {
     "name": "stdout",
     "output_type": "stream",
     "text": [
      "\u001b[1m1/1\u001b[0m \u001b[32m━━━━━━━━━━━━━━━━━━━━\u001b[0m\u001b[37m\u001b[0m \u001b[1m0s\u001b[0m 76ms/step\n",
      "\u001b[1m1/1\u001b[0m \u001b[32m━━━━━━━━━━━━━━━━━━━━\u001b[0m\u001b[37m\u001b[0m \u001b[1m0s\u001b[0m 32ms/step\n"
     ]
    }
   ],
   "source": [
    "import os\n",
    "import tkinter as tk\n",
    "from tkinter import filedialog\n",
    "from PIL import Image, ImageTk\n",
    "import numpy as np\n",
    "import tensorflow as tf\n",
    "from keras.preprocessing import image\n",
    "from tensorflow.keras.models import Model\n",
    "from tensorflow.keras.layers import Dense, Dropout, Conv2D, MaxPooling2D, Flatten\n",
    "def find_similar_images():\n",
    "    # Load đặc trưng của ảnh đầu vào\n",
    "    input_image_path = selected_image_path.get()\n",
    "    input_image = image.load_img(input_image_path, target_size=(200, 200))\n",
    "    input_image = image.img_to_array(input_image)\n",
    "    input_image = np.expand_dims(input_image, axis=0)\n",
    "    input_feature = feature_extractor.predict(input_image)\n",
    "\n",
    "    # Tính toán độ tương đồng giữa ảnh đầu vào và tất cả các ảnh trong tập huấn luyện\n",
    "    similarities = []\n",
    "    for train_feature in train_features:\n",
    "        similarity = np.dot(input_feature.flatten(), train_feature.flatten())\n",
    "        similarities.append(similarity)\n",
    "\n",
    "    # Lựa chọn ra 3 ảnh có độ tương đồng cao nhất\n",
    "    top_indices = np.argsort(similarities)[-3:][::-1]\n",
    "\n",
    "    # Hiển thị các ảnh tương đồng trong giao diện\n",
    "    similar_images = []\n",
    "    for index in top_indices:\n",
    "        similar_image_path = train_generator.filepaths[index]\n",
    "        similar_image = Image.open(similar_image_path)\n",
    "        similar_image = similar_image.resize((200, 200))\n",
    "        similar_images.append(ImageTk.PhotoImage(similar_image))\n",
    "\n",
    "    # Hiển thị các ảnh tương đồng trong giao diện\n",
    "    for i, similar_img in enumerate(similar_images):\n",
    "        similar_image_label = tk.Label(app, image=similar_img)\n",
    "        similar_image_label.image = similar_img\n",
    "        similar_image_label.pack(side=tk.LEFT, padx=5)\n",
    "\n",
    "app = tk.Tk()\n",
    "app.title(\"Fruit Classifier\")\n",
    "\n",
    "last_directory = \"/\"\n",
    "\n",
    "screen_width = app.winfo_screenwidth()\n",
    "screen_height = app.winfo_screenheight()\n",
    "\n",
    "content_width = 850\n",
    "content_height = 850\n",
    "\n",
    "x = (screen_width - content_width) // 2\n",
    "y = (screen_height - content_height) // 2\n",
    "\n",
    "app.geometry(f\"{content_width}x{content_height}+{x}+{y}\")\n",
    "\n",
    "def open_file_dialog():\n",
    "    global last_directory\n",
    "    file_path = filedialog.askopenfilename(initialdir=last_directory, title=\"Select Image\", \n",
    "                                           filetypes=[(\"Image files\", \"*.png;*.jpg;*.jpeg\")])\n",
    "    if file_path:\n",
    "        last_directory = os.path.dirname(file_path)\n",
    "        display_image(file_path)\n",
    "\n",
    "def display_image(file_path):\n",
    "    global img\n",
    "    image = Image.open(file_path)\n",
    "    image = image.resize((200, 200))  \n",
    "    img = ImageTk.PhotoImage(image)\n",
    "    image_label.config(image=img)\n",
    "    image_label.image = img\n",
    "    selected_image_path.set(file_path)\n",
    "\n",
    "title_label = tk.Label(app, text=\"Fruit Classifier\", font=(\"Helvetica\", 20, \"bold\"))  \n",
    "title_label.pack(side=tk.TOP, pady=15)\n",
    "\n",
    "image_label = tk.Label(app)\n",
    "image_label.pack()\n",
    "\n",
    "selected_image_path = tk.StringVar()\n",
    "\n",
    "result_label = tk.Label(app, text=\"\", font=(\"Helvetica\", 12))  \n",
    "result_label.pack(pady=15)\n",
    "\n",
    "button_frame = tk.Frame(app)\n",
    "button_frame.pack(side=tk.BOTTOM, pady=15)\n",
    "\n",
    "open_button = tk.Button(button_frame, text=\"Open Image\", command=open_file_dialog)  \n",
    "open_button.pack(side=tk.LEFT, padx=5)\n",
    "\n",
    "find_similar_button = tk.Button(button_frame, text=\"Find Similar Images\", command=find_similar_images)  \n",
    "find_similar_button.pack(side=tk.LEFT, padx=5)\n",
    "\n",
    "app.mainloop()"
   ]
  }
 ],
 "metadata": {
  "kernelspec": {
   "display_name": ".venv",
   "language": "python",
   "name": "python3"
  },
  "language_info": {
   "codemirror_mode": {
    "name": "ipython",
    "version": 3
   },
   "file_extension": ".py",
   "mimetype": "text/x-python",
   "name": "python",
   "nbconvert_exporter": "python",
   "pygments_lexer": "ipython3",
   "version": "3.12.2"
  }
 },
 "nbformat": 4,
 "nbformat_minor": 2
}
